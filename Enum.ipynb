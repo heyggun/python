{
 "cells": [
  {
   "cell_type": "markdown",
   "metadata": {},
   "source": [
    "**Enum**"
   ]
  },
  {
   "cell_type": "code",
   "execution_count": 1,
   "metadata": {},
   "outputs": [],
   "source": [
    "from enum import Enum"
   ]
  },
  {
   "cell_type": "code",
   "execution_count": 2,
   "metadata": {},
   "outputs": [],
   "source": [
    "class Gender(Enum):\n",
    "    MALE = \"male\"\n",
    "    FEMALE = \"female\""
   ]
  },
  {
   "cell_type": "code",
   "execution_count": 10,
   "metadata": {},
   "outputs": [
    {
     "name": "stdout",
     "output_type": "stream",
     "text": [
      "Gender.MALE\n",
      "<enum 'Gender'>\n",
      "Gender.MALE\n",
      "MALE\n",
      "<class 'str'>\n",
      "male\n",
      "<class 'str'>\n",
      "False\n",
      "True\n"
     ]
    }
   ],
   "source": [
    "print(Gender.MALE)\n",
    "print(type(Gender.MALE))\n",
    "print(str(Gender.MALE))\n",
    "\n",
    "print(Gender.MALE.name)\n",
    "print(type(Gender.MALE.name))\n",
    "\n",
    "\n",
    "print(Gender.MALE.value)\n",
    "print(type(Gender.MALE.value))\n",
    "\n",
    "print(str(Gender.MALE)==\"male\")\n",
    "print(Gender.MALE.value == \"male\")"
   ]
  },
  {
   "cell_type": "markdown",
   "metadata": {},
   "source": []
  },
  {
   "cell_type": "markdown",
   "metadata": {},
   "source": [
    "**Enum 커스텀**"
   ]
  },
  {
   "cell_type": "markdown",
   "metadata": {},
   "source": [
    "**1. `Enum` + `@property` 방식**"
   ]
  },
  {
   "cell_type": "code",
   "execution_count": 19,
   "metadata": {},
   "outputs": [],
   "source": [
    "from enum import Enum\n",
    "\n",
    "\n",
    "class PersonalInfoCategory(Enum):\n",
    "    UNIQUE_ID = (\"UNIQUE_ID\", \"고유식별정보\")\n",
    "    FINANCEIAL = (\"FINANCIAL\", \"금융정보\")\n",
    "    GENERAL = (\"GENERAL\", \"기타개인정보\")\n",
    "    ETC = (\"ETC\", \"기타민감정보\")\n",
    "    \n",
    "    @property\n",
    "    def code(self):\n",
    "        return self.value[0]\n",
    "    \n",
    "    @property\n",
    "    def display_name(self):\n",
    "        return self.value[1]"
   ]
  },
  {
   "cell_type": "code",
   "execution_count": 24,
   "metadata": {},
   "outputs": [
    {
     "name": "stdout",
     "output_type": "stream",
     "text": [
      "PersonalInfoCategory.UNIQUE_ID\n",
      "UNIQUE_ID\n",
      "고유식별정보\n"
     ]
    }
   ],
   "source": [
    "# 객체 직렬화\n",
    "\n",
    "data = {\"category\" : PersonalInfoCategory.UNIQUE_ID}\n",
    "\n",
    "print(data['category'])\n",
    "print(data['category'].code)\n",
    "print(data['category'].display_name)"
   ]
  },
  {
   "cell_type": "code",
   "execution_count": 25,
   "metadata": {},
   "outputs": [
    {
     "ename": "TypeError",
     "evalue": "Object of type PersonalInfoCategory is not JSON serializable",
     "output_type": "error",
     "traceback": [
      "\u001b[0;31m---------------------------------------------------------------------------\u001b[0m",
      "\u001b[0;31mTypeError\u001b[0m                                 Traceback (most recent call last)",
      "\u001b[1;32m/Users/geonheekim/Desktop/python/Enum.ipynb Cell 10\u001b[0m line \u001b[0;36m6\n\u001b[1;32m      <a href='vscode-notebook-cell:/Users/geonheekim/Desktop/python/Enum.ipynb#X26sZmlsZQ%3D%3D?line=1'>2</a>\u001b[0m \u001b[39mimport\u001b[39;00m \u001b[39mjson\u001b[39;00m\n\u001b[1;32m      <a href='vscode-notebook-cell:/Users/geonheekim/Desktop/python/Enum.ipynb#X26sZmlsZQ%3D%3D?line=3'>4</a>\u001b[0m data \u001b[39m=\u001b[39m {\u001b[39m\"\u001b[39m\u001b[39mcategory\u001b[39m\u001b[39m\"\u001b[39m : PersonalInfoCategory\u001b[39m.\u001b[39mUNIQUE_ID}\n\u001b[0;32m----> <a href='vscode-notebook-cell:/Users/geonheekim/Desktop/python/Enum.ipynb#X26sZmlsZQ%3D%3D?line=5'>6</a>\u001b[0m json_data \u001b[39m=\u001b[39m json\u001b[39m.\u001b[39;49mdumps(data)\n",
      "File \u001b[0;32m/Library/Frameworks/Python.framework/Versions/3.12/lib/python3.12/json/__init__.py:231\u001b[0m, in \u001b[0;36mdumps\u001b[0;34m(obj, skipkeys, ensure_ascii, check_circular, allow_nan, cls, indent, separators, default, sort_keys, **kw)\u001b[0m\n\u001b[1;32m    226\u001b[0m \u001b[39m# cached encoder\u001b[39;00m\n\u001b[1;32m    227\u001b[0m \u001b[39mif\u001b[39;00m (\u001b[39mnot\u001b[39;00m skipkeys \u001b[39mand\u001b[39;00m ensure_ascii \u001b[39mand\u001b[39;00m\n\u001b[1;32m    228\u001b[0m     check_circular \u001b[39mand\u001b[39;00m allow_nan \u001b[39mand\u001b[39;00m\n\u001b[1;32m    229\u001b[0m     \u001b[39mcls\u001b[39m \u001b[39mis\u001b[39;00m \u001b[39mNone\u001b[39;00m \u001b[39mand\u001b[39;00m indent \u001b[39mis\u001b[39;00m \u001b[39mNone\u001b[39;00m \u001b[39mand\u001b[39;00m separators \u001b[39mis\u001b[39;00m \u001b[39mNone\u001b[39;00m \u001b[39mand\u001b[39;00m\n\u001b[1;32m    230\u001b[0m     default \u001b[39mis\u001b[39;00m \u001b[39mNone\u001b[39;00m \u001b[39mand\u001b[39;00m \u001b[39mnot\u001b[39;00m sort_keys \u001b[39mand\u001b[39;00m \u001b[39mnot\u001b[39;00m kw):\n\u001b[0;32m--> 231\u001b[0m     \u001b[39mreturn\u001b[39;00m _default_encoder\u001b[39m.\u001b[39;49mencode(obj)\n\u001b[1;32m    232\u001b[0m \u001b[39mif\u001b[39;00m \u001b[39mcls\u001b[39m \u001b[39mis\u001b[39;00m \u001b[39mNone\u001b[39;00m:\n\u001b[1;32m    233\u001b[0m     \u001b[39mcls\u001b[39m \u001b[39m=\u001b[39m JSONEncoder\n",
      "File \u001b[0;32m/Library/Frameworks/Python.framework/Versions/3.12/lib/python3.12/json/encoder.py:200\u001b[0m, in \u001b[0;36mJSONEncoder.encode\u001b[0;34m(self, o)\u001b[0m\n\u001b[1;32m    196\u001b[0m         \u001b[39mreturn\u001b[39;00m encode_basestring(o)\n\u001b[1;32m    197\u001b[0m \u001b[39m# This doesn't pass the iterator directly to ''.join() because the\u001b[39;00m\n\u001b[1;32m    198\u001b[0m \u001b[39m# exceptions aren't as detailed.  The list call should be roughly\u001b[39;00m\n\u001b[1;32m    199\u001b[0m \u001b[39m# equivalent to the PySequence_Fast that ''.join() would do.\u001b[39;00m\n\u001b[0;32m--> 200\u001b[0m chunks \u001b[39m=\u001b[39m \u001b[39mself\u001b[39;49m\u001b[39m.\u001b[39;49miterencode(o, _one_shot\u001b[39m=\u001b[39;49m\u001b[39mTrue\u001b[39;49;00m)\n\u001b[1;32m    201\u001b[0m \u001b[39mif\u001b[39;00m \u001b[39mnot\u001b[39;00m \u001b[39misinstance\u001b[39m(chunks, (\u001b[39mlist\u001b[39m, \u001b[39mtuple\u001b[39m)):\n\u001b[1;32m    202\u001b[0m     chunks \u001b[39m=\u001b[39m \u001b[39mlist\u001b[39m(chunks)\n",
      "File \u001b[0;32m/Library/Frameworks/Python.framework/Versions/3.12/lib/python3.12/json/encoder.py:258\u001b[0m, in \u001b[0;36mJSONEncoder.iterencode\u001b[0;34m(self, o, _one_shot)\u001b[0m\n\u001b[1;32m    253\u001b[0m \u001b[39melse\u001b[39;00m:\n\u001b[1;32m    254\u001b[0m     _iterencode \u001b[39m=\u001b[39m _make_iterencode(\n\u001b[1;32m    255\u001b[0m         markers, \u001b[39mself\u001b[39m\u001b[39m.\u001b[39mdefault, _encoder, \u001b[39mself\u001b[39m\u001b[39m.\u001b[39mindent, floatstr,\n\u001b[1;32m    256\u001b[0m         \u001b[39mself\u001b[39m\u001b[39m.\u001b[39mkey_separator, \u001b[39mself\u001b[39m\u001b[39m.\u001b[39mitem_separator, \u001b[39mself\u001b[39m\u001b[39m.\u001b[39msort_keys,\n\u001b[1;32m    257\u001b[0m         \u001b[39mself\u001b[39m\u001b[39m.\u001b[39mskipkeys, _one_shot)\n\u001b[0;32m--> 258\u001b[0m \u001b[39mreturn\u001b[39;00m _iterencode(o, \u001b[39m0\u001b[39;49m)\n",
      "File \u001b[0;32m/Library/Frameworks/Python.framework/Versions/3.12/lib/python3.12/json/encoder.py:180\u001b[0m, in \u001b[0;36mJSONEncoder.default\u001b[0;34m(self, o)\u001b[0m\n\u001b[1;32m    161\u001b[0m \u001b[39mdef\u001b[39;00m \u001b[39mdefault\u001b[39m(\u001b[39mself\u001b[39m, o):\n\u001b[1;32m    162\u001b[0m \u001b[39m    \u001b[39m\u001b[39m\"\"\"Implement this method in a subclass such that it returns\u001b[39;00m\n\u001b[1;32m    163\u001b[0m \u001b[39m    a serializable object for ``o``, or calls the base implementation\u001b[39;00m\n\u001b[1;32m    164\u001b[0m \u001b[39m    (to raise a ``TypeError``).\u001b[39;00m\n\u001b[0;32m   (...)\u001b[0m\n\u001b[1;32m    178\u001b[0m \n\u001b[1;32m    179\u001b[0m \u001b[39m    \"\"\"\u001b[39;00m\n\u001b[0;32m--> 180\u001b[0m     \u001b[39mraise\u001b[39;00m \u001b[39mTypeError\u001b[39;00m(\u001b[39mf\u001b[39m\u001b[39m'\u001b[39m\u001b[39mObject of type \u001b[39m\u001b[39m{\u001b[39;00mo\u001b[39m.\u001b[39m\u001b[39m__class__\u001b[39m\u001b[39m.\u001b[39m\u001b[39m__name__\u001b[39m\u001b[39m}\u001b[39;00m\u001b[39m \u001b[39m\u001b[39m'\u001b[39m\n\u001b[1;32m    181\u001b[0m                     \u001b[39mf\u001b[39m\u001b[39m'\u001b[39m\u001b[39mis not JSON serializable\u001b[39m\u001b[39m'\u001b[39m)\n",
      "\u001b[0;31mTypeError\u001b[0m: Object of type PersonalInfoCategory is not JSON serializable"
     ]
    }
   ],
   "source": [
    "# JSON 직렬화\n",
    "import json\n",
    "\n",
    "data = {\"category\" : PersonalInfoCategory.UNIQUE_ID}\n",
    "\n",
    "json_data = json.dumps(data)"
   ]
  },
  {
   "cell_type": "code",
   "execution_count": 27,
   "metadata": {},
   "outputs": [
    {
     "data": {
      "text/plain": [
       "'{\"category\": \"UNIQUE_ID\", \"display_name\": \"고유식별정보\"}'"
      ]
     },
     "execution_count": 27,
     "metadata": {},
     "output_type": "execute_result"
    }
   ],
   "source": [
    "#커스텀 직렬화\n",
    "\n",
    "data = {\"category\" : PersonalInfoCategory.UNIQUE_ID}\n",
    "\n",
    "json_data = json.dumps({\"category\" : data[\"category\"].code,\n",
    "                        \"display_name\" : data[\"category\"].display_name},\n",
    "                       ensure_ascii=False)\n",
    "\n",
    "json_data"
   ]
  },
  {
   "cell_type": "code",
   "execution_count": null,
   "metadata": {},
   "outputs": [],
   "source": []
  },
  {
   "cell_type": "code",
   "execution_count": 28,
   "metadata": {},
   "outputs": [
    {
     "name": "stdout",
     "output_type": "stream",
     "text": [
      "다른 값\n"
     ]
    }
   ],
   "source": [
    "if PersonalInfoCategory.UNIQUE_ID == \"UNIQUE_ID\":\n",
    "    print(\"같은 값\")\n",
    "    \n",
    "else:\n",
    "    print(\"다른 값\")"
   ]
  },
  {
   "cell_type": "code",
   "execution_count": 29,
   "metadata": {},
   "outputs": [
    {
     "name": "stdout",
     "output_type": "stream",
     "text": [
      "같은 값\n"
     ]
    }
   ],
   "source": [
    "if PersonalInfoCategory.UNIQUE_ID.code == \"UNIQUE_ID\":\n",
    "    print(\"같은 값\")\n",
    "    \n",
    "else:\n",
    "    print(\"다른 값\")"
   ]
  },
  {
   "cell_type": "markdown",
   "metadata": {},
   "source": [
    "**`namedtuple`를 value로 넣는 방법**"
   ]
  },
  {
   "cell_type": "code",
   "execution_count": 39,
   "metadata": {},
   "outputs": [],
   "source": [
    "from enum import Enum\n",
    "from collections import namedtuple\n",
    "\n",
    "Category = namedtuple(\"Category\", [\"code\", \"display_name\"])\n",
    "\n",
    "class PersonalInfoCategory(Enum):\n",
    "    UNIQUE_ID = Category(\"UNIQUE_ID\", \"고유식별정보\")\n",
    "    FINANCEIAL = Category(\"FINANCIAL\", \"금융정보\")\n",
    "    GENERAL = Category(\"GENERAL\", \"기타개인정보\")\n",
    "    ETC = Category(\"ETC\", \"기타민감정보\")\n",
    "    \n",
    "    @property\n",
    "    def code(self):\n",
    "        return self.value.code\n",
    "    \n",
    "    @property\n",
    "    def display_name(self):\n",
    "        return self.value.display_name"
   ]
  },
  {
   "cell_type": "code",
   "execution_count": 42,
   "metadata": {},
   "outputs": [
    {
     "name": "stdout",
     "output_type": "stream",
     "text": [
      "UNIQUE_ID\n",
      "고유식별정보\n"
     ]
    }
   ],
   "source": [
    "category = PersonalInfoCategory.UNIQUE_ID\n",
    "print(category.code)\n",
    "print(category.display_name)"
   ]
  },
  {
   "cell_type": "code",
   "execution_count": 43,
   "metadata": {},
   "outputs": [
    {
     "name": "stdout",
     "output_type": "stream",
     "text": [
      "UNIQUE_ID 고유식별정보\n",
      "FINANCIAL 금융정보\n",
      "GENERAL 기타개인정보\n",
      "ETC 기타민감정보\n"
     ]
    }
   ],
   "source": [
    "# Enum 멤버 순회하기\n",
    "\n",
    "for category in PersonalInfoCategory:\n",
    "    print(category.code, category.display_name)"
   ]
  },
  {
   "cell_type": "markdown",
   "metadata": {},
   "source": [
    "**`dataclass`를 value로 넣는 방법**"
   ]
  },
  {
   "cell_type": "code",
   "execution_count": 44,
   "metadata": {},
   "outputs": [],
   "source": [
    "from enum import Enum\n",
    "from dataclasses import dataclass\n",
    "\n",
    "@dataclass(frozen=True)\n",
    "class Category:\n",
    "    code:str\n",
    "    display_name:str\n",
    "    \n",
    "\n",
    "class PersonalInfoCategory(Enum):\n",
    "    UNIQUE_ID = Category(\"UNIQUE_ID\", \"고유식별정보\")\n",
    "    FINANCIAL = Category(\"FINANCIAL\", \"금융정보\")\n",
    "    GENERAL = Category(\"GENERAL\", \"기타개인정보\")\n",
    "    ETC = Category(\"ETC\", \"기타민감정보\")\n",
    "    \n",
    "    @property\n",
    "    def code(self):\n",
    "        return self.value.code\n",
    "    \n",
    "    @property\n",
    "    def display_name(self):\n",
    "        return self.value.display_name\n",
    "\n",
    "    "
   ]
  },
  {
   "cell_type": "code",
   "execution_count": 45,
   "metadata": {},
   "outputs": [
    {
     "name": "stdout",
     "output_type": "stream",
     "text": [
      "UNIQUE_ID\n",
      "고유식별정보\n"
     ]
    }
   ],
   "source": [
    "print(PersonalInfoCategory.UNIQUE_ID.code)\n",
    "print(PersonalInfoCategory.UNIQUE_ID.display_name)"
   ]
  },
  {
   "cell_type": "code",
   "execution_count": 46,
   "metadata": {},
   "outputs": [
    {
     "name": "stdout",
     "output_type": "stream",
     "text": [
      "UNIQUE_ID 고유식별정보\n",
      "FINANCIAL 금융정보\n",
      "GENERAL 기타개인정보\n",
      "ETC 기타민감정보\n"
     ]
    }
   ],
   "source": [
    "for category in PersonalInfoCategory:\n",
    "    print(category.code, category.display_name)"
   ]
  },
  {
   "cell_type": "code",
   "execution_count": 48,
   "metadata": {},
   "outputs": [
    {
     "name": "stdout",
     "output_type": "stream",
     "text": [
      "{\"code\": \"UNIQUE_ID\", \"display_name\": \"고유식별정보\"}\n"
     ]
    }
   ],
   "source": [
    "# 데이터 직렬화\n",
    "from dataclasses import asdict\n",
    "import json\n",
    "\n",
    "category = PersonalInfoCategory.UNIQUE_ID\n",
    "category_json = json.dumps(asdict(category.value), ensure_ascii=False)\n",
    "print(category_json)\n"
   ]
  },
  {
   "cell_type": "code",
   "execution_count": 51,
   "metadata": {},
   "outputs": [
    {
     "name": "stdout",
     "output_type": "stream",
     "text": [
      "[{\"code\": \"UNIQUE_ID\", \"display_name\": \"고유식별정보\"}, {\"code\": \"FINANCIAL\", \"display_name\": \"금융정보\"}, {\"code\": \"GENERAL\", \"display_name\": \"기타개인정보\"}, {\"code\": \"ETC\", \"display_name\": \"기타민감정보\"}]\n"
     ]
    }
   ],
   "source": [
    "data = [asdict(category.value) for category in PersonalInfoCategory]\n",
    "data_json = json.dumps(data, ensure_ascii=False)\n",
    "print(data_json)"
   ]
  },
  {
   "cell_type": "code",
   "execution_count": null,
   "metadata": {},
   "outputs": [],
   "source": []
  },
  {
   "cell_type": "code",
   "execution_count": 56,
   "metadata": {},
   "outputs": [
    {
     "name": "stdout",
     "output_type": "stream",
     "text": [
      "[{'code': 'UNIQUE_ID', 'display_name': '고유식별정보'}, {'code': 'FINANCIAL', 'display_name': '금융정보'}, {'code': 'GENERAL', 'display_name': '기타개인정보'}, {'code': 'ETC', 'display_name': '기타민감정보'}]\n",
      "[{\"code\": \"UNIQUE_ID\", \"display_name\": \"고유식별정보\"}, {\"code\": \"FINANCIAL\", \"display_name\": \"금융정보\"}, {\"code\": \"GENERAL\", \"display_name\": \"기타개인정보\"}, {\"code\": \"ETC\", \"display_name\": \"기타민감정보\"}]\n"
     ]
    }
   ],
   "source": [
    "from dataclasses import asdict\n",
    "import json\n",
    "\n",
    "\n",
    "@dataclass\n",
    "class Category:\n",
    "    code:str\n",
    "    display_name:str\n",
    "    \n",
    "class PersonalInfoCategory(Enum):\n",
    "    UNIQUE_ID = Category(\"UNIQUE_ID\", \"고유식별정보\")\n",
    "    FINANCIAL = Category(\"FINANCIAL\", \"금융정보\")\n",
    "    GENERAL = Category(\"GENERAL\", \"기타개인정보\")\n",
    "    ETC = Category(\"ETC\", \"기타민감정보\")\n",
    "    \n",
    "    @property\n",
    "    def code(self):\n",
    "        return self.value.code\n",
    "    \n",
    "    @property\n",
    "    def display_name(self):\n",
    "        return self.value.display_name\n",
    "    \n",
    "    @classmethod\n",
    "    def to_dict_list(cls):\n",
    "        return [asdict(member.value)for member in cls]\n",
    "    \n",
    "    \n",
    "data = PersonalInfoCategory.to_dict_list()\n",
    "print(data)\n",
    "\n",
    "json_data = json.dumps(data, ensure_ascii=False)\n",
    "print(json_data)"
   ]
  },
  {
   "cell_type": "code",
   "execution_count": null,
   "metadata": {},
   "outputs": [],
   "source": []
  },
  {
   "cell_type": "code",
   "execution_count": null,
   "metadata": {},
   "outputs": [],
   "source": []
  },
  {
   "cell_type": "markdown",
   "metadata": {},
   "source": [
    "**2. `str, Enum` + `__new__` 방식**"
   ]
  },
  {
   "cell_type": "code",
   "execution_count": 14,
   "metadata": {},
   "outputs": [
    {
     "ename": "TypeError",
     "evalue": "decoding str is not supported",
     "output_type": "error",
     "traceback": [
      "\u001b[0;31m---------------------------------------------------------------------------\u001b[0m",
      "\u001b[0;31mTypeError\u001b[0m                                 Traceback (most recent call last)",
      "\u001b[1;32m/Users/geonheekim/Desktop/python/Enum.ipynb Cell 13\u001b[0m line \u001b[0;36m1\n\u001b[0;32m----> <a href='vscode-notebook-cell:/Users/geonheekim/Desktop/python/Enum.ipynb#X11sZmlsZQ%3D%3D?line=0'>1</a>\u001b[0m \u001b[39mclass\u001b[39;49;00m \u001b[39mPersonalInfoCategory\u001b[39;49;00m(\u001b[39mstr\u001b[39;49m, Enum):\n\u001b[1;32m      <a href='vscode-notebook-cell:/Users/geonheekim/Desktop/python/Enum.ipynb#X11sZmlsZQ%3D%3D?line=1'>2</a>\u001b[0m     UNIQUE_ID \u001b[39m=\u001b[39;49m (\u001b[39m\"\u001b[39;49m\u001b[39mUNIQUE_ID\u001b[39;49m\u001b[39m\"\u001b[39;49m, \u001b[39m\"\u001b[39;49m\u001b[39m고유식별정보\u001b[39;49m\u001b[39m\"\u001b[39;49m)\n\u001b[1;32m      <a href='vscode-notebook-cell:/Users/geonheekim/Desktop/python/Enum.ipynb#X11sZmlsZQ%3D%3D?line=2'>3</a>\u001b[0m     FINANCEIAL \u001b[39m=\u001b[39;49m (\u001b[39m\"\u001b[39;49m\u001b[39mFINANCIAL\u001b[39;49m\u001b[39m\"\u001b[39;49m, \u001b[39m\"\u001b[39;49m\u001b[39m금융정보\u001b[39;49m\u001b[39m\"\u001b[39;49m)\n",
      "File \u001b[0;32m/Library/Frameworks/Python.framework/Versions/3.12/lib/python3.12/enum.py:606\u001b[0m, in \u001b[0;36mEnumType.__new__\u001b[0;34m(metacls, cls, bases, classdict, boundary, _simple, **kwds)\u001b[0m\n\u001b[1;32m    604\u001b[0m     tb \u001b[39m=\u001b[39m e\u001b[39m.\u001b[39m__traceback__\n\u001b[1;32m    605\u001b[0m \u001b[39mif\u001b[39;00m exc \u001b[39mis\u001b[39;00m \u001b[39mnot\u001b[39;00m \u001b[39mNone\u001b[39;00m:\n\u001b[0;32m--> 606\u001b[0m     \u001b[39mraise\u001b[39;00m exc\u001b[39m.\u001b[39mwith_traceback(tb)\n\u001b[1;32m    607\u001b[0m \u001b[39m#\u001b[39;00m\n\u001b[1;32m    608\u001b[0m \u001b[39m# update classdict with any changes made by __init_subclass__\u001b[39;00m\n\u001b[1;32m    609\u001b[0m classdict\u001b[39m.\u001b[39mupdate(enum_class\u001b[39m.\u001b[39m\u001b[39m__dict__\u001b[39m)\n",
      "File \u001b[0;32m/Library/Frameworks/Python.framework/Versions/3.12/lib/python3.12/enum.py:596\u001b[0m, in \u001b[0;36mEnumType.__new__\u001b[0;34m(metacls, cls, bases, classdict, boundary, _simple, **kwds)\u001b[0m\n\u001b[1;32m    594\u001b[0m \u001b[39mtry\u001b[39;00m:\n\u001b[1;32m    595\u001b[0m     exc \u001b[39m=\u001b[39m \u001b[39mNone\u001b[39;00m\n\u001b[0;32m--> 596\u001b[0m     enum_class \u001b[39m=\u001b[39m \u001b[39msuper\u001b[39;49m()\u001b[39m.\u001b[39;49m\u001b[39m__new__\u001b[39;49m(metacls, \u001b[39mcls\u001b[39;49m, bases, classdict, \u001b[39m*\u001b[39;49m\u001b[39m*\u001b[39;49mkwds)\n\u001b[1;32m    597\u001b[0m \u001b[39mexcept\u001b[39;00m \u001b[39mException\u001b[39;00m \u001b[39mas\u001b[39;00m e:\n\u001b[1;32m    598\u001b[0m     \u001b[39m# since 3.12 the line \"Error calling __set_name__ on '_proto_member' instance ...\"\u001b[39;00m\n\u001b[1;32m    599\u001b[0m     \u001b[39m# is tacked on to the error instead of raising a RuntimeError\u001b[39;00m\n\u001b[1;32m    600\u001b[0m     \u001b[39m# recreate the exception to discard\u001b[39;00m\n\u001b[1;32m    601\u001b[0m     exc \u001b[39m=\u001b[39m \u001b[39mtype\u001b[39m(e)(\u001b[39mstr\u001b[39m(e))\n",
      "File \u001b[0;32m/Library/Frameworks/Python.framework/Versions/3.12/lib/python3.12/enum.py:271\u001b[0m, in \u001b[0;36m_proto_member.__set_name__\u001b[0;34m(self, enum_class, member_name)\u001b[0m\n\u001b[1;32m    269\u001b[0m     enum_member \u001b[39m=\u001b[39m enum_class\u001b[39m.\u001b[39m_new_member_(enum_class)\n\u001b[1;32m    270\u001b[0m \u001b[39melse\u001b[39;00m:\n\u001b[0;32m--> 271\u001b[0m     enum_member \u001b[39m=\u001b[39m enum_class\u001b[39m.\u001b[39;49m_new_member_(enum_class, \u001b[39m*\u001b[39;49margs)\n\u001b[1;32m    272\u001b[0m \u001b[39mif\u001b[39;00m \u001b[39mnot\u001b[39;00m \u001b[39mhasattr\u001b[39m(enum_member, \u001b[39m'\u001b[39m\u001b[39m_value_\u001b[39m\u001b[39m'\u001b[39m):\n\u001b[1;32m    273\u001b[0m     \u001b[39mif\u001b[39;00m enum_class\u001b[39m.\u001b[39m_member_type_ \u001b[39mis\u001b[39;00m \u001b[39mobject\u001b[39m:\n",
      "\u001b[0;31mTypeError\u001b[0m: decoding str is not supported"
     ]
    }
   ],
   "source": [
    "class PersonalInfoCategory(str, Enum):\n",
    "    UNIQUE_ID = (\"UNIQUE_ID\", \"고유식별정보\")\n",
    "    FINANCEIAL = (\"FINANCIAL\", \"금융정보\")\n",
    "    GENERAL = (\"GENERAL\", \"기타개인정보\")\n",
    "    ETC = (\"ETC\", \"기타민감정보\")"
   ]
  },
  {
   "cell_type": "markdown",
   "metadata": {},
   "source": [
    "-> `str, Enum` 조합 사용시 기본적으로 멤버의 값은 str"
   ]
  },
  {
   "cell_type": "code",
   "execution_count": 32,
   "metadata": {},
   "outputs": [
    {
     "ename": "TypeError",
     "evalue": "_value_ not set in __new__, unable to create it",
     "output_type": "error",
     "traceback": [
      "\u001b[0;31m---------------------------------------------------------------------------\u001b[0m",
      "\u001b[0;31mTypeError\u001b[0m                                 Traceback (most recent call last)",
      "File \u001b[0;32m/Library/Frameworks/Python.framework/Versions/3.12/lib/python3.12/enum.py:277\u001b[0m, in \u001b[0;36m_proto_member.__set_name__\u001b[0;34m(self, enum_class, member_name)\u001b[0m\n\u001b[1;32m    276\u001b[0m \u001b[39mtry\u001b[39;00m:\n\u001b[0;32m--> 277\u001b[0m     enum_member\u001b[39m.\u001b[39m_value_ \u001b[39m=\u001b[39m enum_class\u001b[39m.\u001b[39;49m_member_type_(\u001b[39m*\u001b[39;49margs)\n\u001b[1;32m    278\u001b[0m \u001b[39mexcept\u001b[39;00m \u001b[39mException\u001b[39;00m \u001b[39mas\u001b[39;00m exc:\n",
      "\u001b[0;31mTypeError\u001b[0m: decoding str is not supported",
      "\nThe above exception was the direct cause of the following exception:\n",
      "\u001b[0;31mTypeError\u001b[0m                                 Traceback (most recent call last)",
      "\u001b[1;32m/Users/geonheekim/Desktop/python/Enum.ipynb Cell 19\u001b[0m line \u001b[0;36m3\n\u001b[1;32m      <a href='vscode-notebook-cell:/Users/geonheekim/Desktop/python/Enum.ipynb#X33sZmlsZQ%3D%3D?line=0'>1</a>\u001b[0m \u001b[39mfrom\u001b[39;00m \u001b[39menum\u001b[39;00m \u001b[39mimport\u001b[39;00m Enum\n\u001b[0;32m----> <a href='vscode-notebook-cell:/Users/geonheekim/Desktop/python/Enum.ipynb#X33sZmlsZQ%3D%3D?line=2'>3</a>\u001b[0m \u001b[39mclass\u001b[39;49;00m \u001b[39mPersonalInfoCategory\u001b[39;49;00m(\u001b[39mstr\u001b[39;49m, Enum):\n\u001b[1;32m      <a href='vscode-notebook-cell:/Users/geonheekim/Desktop/python/Enum.ipynb#X33sZmlsZQ%3D%3D?line=3'>4</a>\u001b[0m     UNIQUE_ID \u001b[39m=\u001b[39;49m (\u001b[39m\"\u001b[39;49m\u001b[39mUNIQUE_ID\u001b[39;49m\u001b[39m\"\u001b[39;49m, \u001b[39m\"\u001b[39;49m\u001b[39m고유식별정보\u001b[39;49m\u001b[39m\"\u001b[39;49m)\n\u001b[1;32m      <a href='vscode-notebook-cell:/Users/geonheekim/Desktop/python/Enum.ipynb#X33sZmlsZQ%3D%3D?line=4'>5</a>\u001b[0m     FINANCIAL \u001b[39m=\u001b[39;49m (\u001b[39m\"\u001b[39;49m\u001b[39mFINANCIAL\u001b[39;49m\u001b[39m\"\u001b[39;49m, \u001b[39m\"\u001b[39;49m\u001b[39m금융정보\u001b[39;49m\u001b[39m\"\u001b[39;49m)\n",
      "File \u001b[0;32m/Library/Frameworks/Python.framework/Versions/3.12/lib/python3.12/enum.py:606\u001b[0m, in \u001b[0;36mEnumType.__new__\u001b[0;34m(metacls, cls, bases, classdict, boundary, _simple, **kwds)\u001b[0m\n\u001b[1;32m    604\u001b[0m     tb \u001b[39m=\u001b[39m e\u001b[39m.\u001b[39m__traceback__\n\u001b[1;32m    605\u001b[0m \u001b[39mif\u001b[39;00m exc \u001b[39mis\u001b[39;00m \u001b[39mnot\u001b[39;00m \u001b[39mNone\u001b[39;00m:\n\u001b[0;32m--> 606\u001b[0m     \u001b[39mraise\u001b[39;00m exc\u001b[39m.\u001b[39mwith_traceback(tb)\n\u001b[1;32m    607\u001b[0m \u001b[39m#\u001b[39;00m\n\u001b[1;32m    608\u001b[0m \u001b[39m# update classdict with any changes made by __init_subclass__\u001b[39;00m\n\u001b[1;32m    609\u001b[0m classdict\u001b[39m.\u001b[39mupdate(enum_class\u001b[39m.\u001b[39m\u001b[39m__dict__\u001b[39m)\n",
      "File \u001b[0;32m/Library/Frameworks/Python.framework/Versions/3.12/lib/python3.12/enum.py:596\u001b[0m, in \u001b[0;36mEnumType.__new__\u001b[0;34m(metacls, cls, bases, classdict, boundary, _simple, **kwds)\u001b[0m\n\u001b[1;32m    594\u001b[0m \u001b[39mtry\u001b[39;00m:\n\u001b[1;32m    595\u001b[0m     exc \u001b[39m=\u001b[39m \u001b[39mNone\u001b[39;00m\n\u001b[0;32m--> 596\u001b[0m     enum_class \u001b[39m=\u001b[39m \u001b[39msuper\u001b[39;49m()\u001b[39m.\u001b[39;49m\u001b[39m__new__\u001b[39;49m(metacls, \u001b[39mcls\u001b[39;49m, bases, classdict, \u001b[39m*\u001b[39;49m\u001b[39m*\u001b[39;49mkwds)\n\u001b[1;32m    597\u001b[0m \u001b[39mexcept\u001b[39;00m \u001b[39mException\u001b[39;00m \u001b[39mas\u001b[39;00m e:\n\u001b[1;32m    598\u001b[0m     \u001b[39m# since 3.12 the line \"Error calling __set_name__ on '_proto_member' instance ...\"\u001b[39;00m\n\u001b[1;32m    599\u001b[0m     \u001b[39m# is tacked on to the error instead of raising a RuntimeError\u001b[39;00m\n\u001b[1;32m    600\u001b[0m     \u001b[39m# recreate the exception to discard\u001b[39;00m\n\u001b[1;32m    601\u001b[0m     exc \u001b[39m=\u001b[39m \u001b[39mtype\u001b[39m(e)(\u001b[39mstr\u001b[39m(e))\n",
      "File \u001b[0;32m/Library/Frameworks/Python.framework/Versions/3.12/lib/python3.12/enum.py:283\u001b[0m, in \u001b[0;36m_proto_member.__set_name__\u001b[0;34m(self, enum_class, member_name)\u001b[0m\n\u001b[1;32m    279\u001b[0m             new_exc \u001b[39m=\u001b[39m \u001b[39mTypeError\u001b[39;00m(\n\u001b[1;32m    280\u001b[0m                     \u001b[39m'\u001b[39m\u001b[39m_value_ not set in __new__, unable to create it\u001b[39m\u001b[39m'\u001b[39m\n\u001b[1;32m    281\u001b[0m                     )\n\u001b[1;32m    282\u001b[0m             new_exc\u001b[39m.\u001b[39m__cause__ \u001b[39m=\u001b[39m exc\n\u001b[0;32m--> 283\u001b[0m             \u001b[39mraise\u001b[39;00m new_exc\n\u001b[1;32m    284\u001b[0m value \u001b[39m=\u001b[39m enum_member\u001b[39m.\u001b[39m_value_\n\u001b[1;32m    285\u001b[0m enum_member\u001b[39m.\u001b[39m_name_ \u001b[39m=\u001b[39m member_name\n",
      "\u001b[0;31mTypeError\u001b[0m: _value_ not set in __new__, unable to create it"
     ]
    }
   ],
   "source": [
    "from enum import Enum\n",
    "\n",
    "class PersonalInfoCategory(str, Enum):\n",
    "    UNIQUE_ID = (\"UNIQUE_ID\", \"고유식별정보\")\n",
    "    FINANCIAL = (\"FINANCIAL\", \"금융정보\")\n",
    "    GENERAL = (\"GENERAL\", \"기타개인정보\")\n",
    "    ETC = (\"ETC\", \"기타민감정보\")\n",
    "\n",
    "    def __new__(cls, value, display_name):\n",
    "        obj = str.__new__(cls, value)\n",
    "        obj.display_name = display_name\n",
    "        return obj"
   ]
  },
  {
   "cell_type": "code",
   "execution_count": 52,
   "metadata": {},
   "outputs": [],
   "source": [
    "from enum import Enum\n",
    "\n",
    "class PersonalInfoCategory(str, Enum):\n",
    "    UNIQUE_ID = \"UNIQUE_ID\"\n",
    "    FINANCIAL = \"FINANCIAL\"\n",
    "    GENERAL = \"GENERAL\"\n",
    "    ETC = \"ETC\"\n",
    "\n",
    "    def __new__(cls, value):\n",
    "        obj = str.__new__(cls, value)\n",
    "        obj._value_ = value\n",
    "        return obj\n",
    "    "
   ]
  },
  {
   "cell_type": "code",
   "execution_count": null,
   "metadata": {},
   "outputs": [],
   "source": []
  },
  {
   "cell_type": "code",
   "execution_count": null,
   "metadata": {},
   "outputs": [],
   "source": []
  },
  {
   "cell_type": "markdown",
   "metadata": {},
   "source": [
    "**`Enum` + `__init__` 속성 추가**"
   ]
  },
  {
   "cell_type": "code",
   "execution_count": 58,
   "metadata": {},
   "outputs": [],
   "source": [
    "from enum import Enum\n",
    "\n",
    "class PersonalInfoCategory(Enum):\n",
    "    UNIQUE_ID = \"UNIQUE_ID\"\n",
    "    FINANCIAL = \"FINANCIAL\"\n",
    "    GENERAL = \"GENERAL\"\n",
    "    ETC = \"ETC\"\n",
    "    \n",
    "    def __init__(self, value):\n",
    "        self.display_name = {\n",
    "            \"UNIQUE_ID\": \"고유식별정보\",\n",
    "            \"FINANCIAL\": \"금융정보\",\n",
    "            \"GENERAL\": \"기타개인정보\",\n",
    "            \"ETC\": \"기타민감정보\"\n",
    "        }[value]\n",
    "    "
   ]
  },
  {
   "cell_type": "code",
   "execution_count": null,
   "metadata": {},
   "outputs": [],
   "source": []
  },
  {
   "cell_type": "code",
   "execution_count": null,
   "metadata": {},
   "outputs": [],
   "source": []
  },
  {
   "cell_type": "code",
   "execution_count": null,
   "metadata": {},
   "outputs": [],
   "source": []
  }
 ],
 "metadata": {
  "kernelspec": {
   "display_name": "Python 3",
   "language": "python",
   "name": "python3"
  },
  "language_info": {
   "codemirror_mode": {
    "name": "ipython",
    "version": 3
   },
   "file_extension": ".py",
   "mimetype": "text/x-python",
   "name": "python",
   "nbconvert_exporter": "python",
   "pygments_lexer": "ipython3",
   "version": "3.12.6"
  }
 },
 "nbformat": 4,
 "nbformat_minor": 2
}
